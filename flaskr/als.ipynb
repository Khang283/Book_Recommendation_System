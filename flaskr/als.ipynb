{
 "cells": [
  {
   "cell_type": "code",
   "execution_count": 6,
   "metadata": {},
   "outputs": [],
   "source": [
    "import pandas as pd\n",
    "import numpy as np\n",
    "from sklearn.metrics import mean_absolute_error, mean_squared_error, r2_score, mean_absolute_percentage_error"
   ]
  },
  {
   "cell_type": "code",
   "execution_count": 5,
   "metadata": {},
   "outputs": [
    {
     "data": {
      "text/html": [
       "<div>\n",
       "<style scoped>\n",
       "    .dataframe tbody tr th:only-of-type {\n",
       "        vertical-align: middle;\n",
       "    }\n",
       "\n",
       "    .dataframe tbody tr th {\n",
       "        vertical-align: top;\n",
       "    }\n",
       "\n",
       "    .dataframe thead th {\n",
       "        text-align: right;\n",
       "    }\n",
       "</style>\n",
       "<table border=\"1\" class=\"dataframe\">\n",
       "  <thead>\n",
       "    <tr style=\"text-align: right;\">\n",
       "      <th></th>\n",
       "      <th>item_id</th>\n",
       "      <th>user_id</th>\n",
       "      <th>rating</th>\n",
       "      <th>prediction</th>\n",
       "    </tr>\n",
       "  </thead>\n",
       "  <tbody>\n",
       "    <tr>\n",
       "      <th>0</th>\n",
       "      <td>3194786</td>\n",
       "      <td>22</td>\n",
       "      <td>1</td>\n",
       "      <td>2.430135</td>\n",
       "    </tr>\n",
       "    <tr>\n",
       "      <th>1</th>\n",
       "      <td>16682039</td>\n",
       "      <td>22</td>\n",
       "      <td>4</td>\n",
       "      <td>3.674860</td>\n",
       "    </tr>\n",
       "    <tr>\n",
       "      <th>2</th>\n",
       "      <td>19187812</td>\n",
       "      <td>22</td>\n",
       "      <td>5</td>\n",
       "      <td>3.882390</td>\n",
       "    </tr>\n",
       "    <tr>\n",
       "      <th>3</th>\n",
       "      <td>42367516</td>\n",
       "      <td>28</td>\n",
       "      <td>2</td>\n",
       "      <td>2.068932</td>\n",
       "    </tr>\n",
       "    <tr>\n",
       "      <th>4</th>\n",
       "      <td>10829530</td>\n",
       "      <td>28</td>\n",
       "      <td>2</td>\n",
       "      <td>2.641614</td>\n",
       "    </tr>\n",
       "    <tr>\n",
       "      <th>...</th>\n",
       "      <td>...</td>\n",
       "      <td>...</td>\n",
       "      <td>...</td>\n",
       "      <td>...</td>\n",
       "    </tr>\n",
       "    <tr>\n",
       "      <th>323688</th>\n",
       "      <td>44009388</td>\n",
       "      <td>248445</td>\n",
       "      <td>4</td>\n",
       "      <td>4.103479</td>\n",
       "    </tr>\n",
       "    <tr>\n",
       "      <th>323689</th>\n",
       "      <td>55986523</td>\n",
       "      <td>248445</td>\n",
       "      <td>4</td>\n",
       "      <td>4.224902</td>\n",
       "    </tr>\n",
       "    <tr>\n",
       "      <th>323690</th>\n",
       "      <td>55986523</td>\n",
       "      <td>261508</td>\n",
       "      <td>3</td>\n",
       "      <td>3.843253</td>\n",
       "    </tr>\n",
       "    <tr>\n",
       "      <th>323691</th>\n",
       "      <td>16227953</td>\n",
       "      <td>262261</td>\n",
       "      <td>4</td>\n",
       "      <td>3.751994</td>\n",
       "    </tr>\n",
       "    <tr>\n",
       "      <th>323692</th>\n",
       "      <td>45813779</td>\n",
       "      <td>262261</td>\n",
       "      <td>4</td>\n",
       "      <td>3.731811</td>\n",
       "    </tr>\n",
       "  </tbody>\n",
       "</table>\n",
       "<p>323693 rows × 4 columns</p>\n",
       "</div>"
      ],
      "text/plain": [
       "         item_id  user_id  rating  prediction\n",
       "0        3194786       22       1    2.430135\n",
       "1       16682039       22       4    3.674860\n",
       "2       19187812       22       5    3.882390\n",
       "3       42367516       28       2    2.068932\n",
       "4       10829530       28       2    2.641614\n",
       "...          ...      ...     ...         ...\n",
       "323688  44009388   248445       4    4.103479\n",
       "323689  55986523   248445       4    4.224902\n",
       "323690  55986523   261508       3    3.843253\n",
       "323691  16227953   262261       4    3.751994\n",
       "323692  45813779   262261       4    3.731811\n",
       "\n",
       "[323693 rows x 4 columns]"
      ]
     },
     "execution_count": 5,
     "metadata": {},
     "output_type": "execute_result"
    }
   ],
   "source": [
    "prediction = pd.read_csv('../data/als_prediction.csv', names=['item_id','user_id','rating','prediction'])\n",
    "prediction"
   ]
  },
  {
   "cell_type": "code",
   "execution_count": 7,
   "metadata": {},
   "outputs": [
    {
     "name": "stdout",
     "output_type": "stream",
     "text": [
      "RMSE: 0.7098375816052936\n",
      "MAE: 0.5629465004376988\n",
      "R^2: 0.48689284835442126\n"
     ]
    }
   ],
   "source": [
    "rmse = np.sqrt(mean_squared_error(prediction[\"rating\"], prediction[\"prediction\"]))\n",
    "mae = mean_absolute_error(prediction['rating'], prediction['prediction'])\n",
    "r2 = r2_score(prediction['rating'], prediction['prediction'])\n",
    "print(f'RMSE: {rmse}')\n",
    "print(f'MAE: {mae}')\n",
    "print(f'R^2: {r2}')"
   ]
  }
 ],
 "metadata": {
  "kernelspec": {
   "display_name": ".venv",
   "language": "python",
   "name": "python3"
  },
  "language_info": {
   "codemirror_mode": {
    "name": "ipython",
    "version": 3
   },
   "file_extension": ".py",
   "mimetype": "text/x-python",
   "name": "python",
   "nbconvert_exporter": "python",
   "pygments_lexer": "ipython3",
   "version": "3.10.6"
  }
 },
 "nbformat": 4,
 "nbformat_minor": 2
}
