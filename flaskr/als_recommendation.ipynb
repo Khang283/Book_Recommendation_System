{
  "nbformat": 4,
  "nbformat_minor": 0,
  "metadata": {
    "colab": {
      "provenance": [],
      "gpuType": "T4"
    },
    "kernelspec": {
      "name": "python3",
      "display_name": "Python 3"
    },
    "language_info": {
      "name": "python"
    },
    "accelerator": "GPU"
  },
  "cells": [
    {
      "cell_type": "code",
      "execution_count": null,
      "metadata": {
        "colab": {
          "base_uri": "https://localhost:8080/"
        },
        "id": "a7pGxRjU5x20",
        "outputId": "3df56f0d-c0c5-405a-84c4-9b630cf8bea6"
      },
      "outputs": [
        {
          "output_type": "stream",
          "name": "stdout",
          "text": [
            "Collecting pyspark\n",
            "  Downloading pyspark-3.5.0.tar.gz (316.9 MB)\n",
            "\u001b[2K     \u001b[90m━━━━━━━━━━━━━━━━━━━━━━━━━━━━━━━━━━━━━━━━\u001b[0m \u001b[32m316.9/316.9 MB\u001b[0m \u001b[31m4.4 MB/s\u001b[0m eta \u001b[36m0:00:00\u001b[0m\n",
            "\u001b[?25h  Preparing metadata (setup.py) ... \u001b[?25l\u001b[?25hdone\n",
            "Requirement already satisfied: py4j==0.10.9.7 in /usr/local/lib/python3.10/dist-packages (from pyspark) (0.10.9.7)\n",
            "Building wheels for collected packages: pyspark\n",
            "  Building wheel for pyspark (setup.py) ... \u001b[?25l\u001b[?25hdone\n",
            "  Created wheel for pyspark: filename=pyspark-3.5.0-py2.py3-none-any.whl size=317425344 sha256=0f9441223d1f31a0c9c063fdae68a9d3373d7cd9a004b4d61b9d3b042d80f008\n",
            "  Stored in directory: /root/.cache/pip/wheels/41/4e/10/c2cf2467f71c678cfc8a6b9ac9241e5e44a01940da8fbb17fc\n",
            "Successfully built pyspark\n",
            "Installing collected packages: pyspark\n",
            "Successfully installed pyspark-3.5.0\n"
          ]
        }
      ],
      "source": [
        "!pip install pyspark"
      ]
    },
    {
      "cell_type": "code",
      "source": [
        "!pip install findspark"
      ],
      "metadata": {
        "colab": {
          "base_uri": "https://localhost:8080/"
        },
        "id": "5Uw6Jb7I7m9p",
        "outputId": "0d31236f-43b9-4872-f7d6-7df96094ad15"
      },
      "execution_count": null,
      "outputs": [
        {
          "output_type": "stream",
          "name": "stdout",
          "text": [
            "Collecting findspark\n",
            "  Downloading findspark-2.0.1-py2.py3-none-any.whl (4.4 kB)\n",
            "Installing collected packages: findspark\n",
            "Successfully installed findspark-2.0.1\n"
          ]
        }
      ]
    },
    {
      "cell_type": "code",
      "source": [
        "import pandas as pd\n",
        "import numpy as np\n",
        "\n",
        "import findspark\n",
        "findspark.init()\n",
        "from pyspark.sql import SparkSession\n",
        "from pyspark.sql import functions as f\n",
        "from pyspark.ml.recommendation import ALS\n",
        "from pyspark.ml.evaluation import RegressionEvaluator\n"
      ],
      "metadata": {
        "id": "PNWIV_Bw6ilI"
      },
      "execution_count": null,
      "outputs": []
    },
    {
      "cell_type": "code",
      "source": [
        "spark = SparkSession.builder.appName('movieRecommendationPySpark').getOrCreate()"
      ],
      "metadata": {
        "id": "sxWiToI4mkQz"
      },
      "execution_count": null,
      "outputs": []
    },
    {
      "cell_type": "code",
      "source": [
        "ratings = spark.read.json('/content/drive/MyDrive/Colab Notebooks/ratings.json')"
      ],
      "metadata": {
        "id": "VEcW9Ystg8aB"
      },
      "execution_count": null,
      "outputs": []
    },
    {
      "cell_type": "code",
      "source": [
        "ratings.show()"
      ],
      "metadata": {
        "colab": {
          "base_uri": "https://localhost:8080/"
        },
        "id": "jhjlBwZVhnR8",
        "outputId": "27b84de1-b6ab-45cc-a063-dcd96cd6862e"
      },
      "execution_count": null,
      "outputs": [
        {
          "output_type": "stream",
          "name": "stdout",
          "text": [
            "+--------+------+-------+\n",
            "| item_id|rating|user_id|\n",
            "+--------+------+-------+\n",
            "|41335427|     5|      0|\n",
            "|41335427|     3|      1|\n",
            "|41335427|     5|      2|\n",
            "|41335427|     5|      3|\n",
            "|41335427|     5|      4|\n",
            "|41335427|     4|      5|\n",
            "|41335427|     5|      6|\n",
            "|41335427|     5|      7|\n",
            "|41335427|     5|      8|\n",
            "|41335427|     5|      9|\n",
            "|41335427|     5|     10|\n",
            "|41335427|     5|     11|\n",
            "|41335427|     5|     12|\n",
            "|41335427|     5|     13|\n",
            "|41335427|     5|     14|\n",
            "|41335427|     5|     15|\n",
            "|41335427|     4|     16|\n",
            "|41335427|     3|     17|\n",
            "|41335427|     5|     18|\n",
            "|41335427|     4|     19|\n",
            "+--------+------+-------+\n",
            "only showing top 20 rows\n",
            "\n"
          ]
        }
      ]
    },
    {
      "cell_type": "code",
      "source": [
        "ratings.na.drop()"
      ],
      "metadata": {
        "colab": {
          "base_uri": "https://localhost:8080/"
        },
        "id": "9A0tVVAIhwZA",
        "outputId": "67a2e834-ddc6-4cf1-c048-6833cec0eddf"
      },
      "execution_count": null,
      "outputs": [
        {
          "output_type": "execute_result",
          "data": {
            "text/plain": [
              "DataFrame[item_id: bigint, rating: bigint, user_id: bigint]"
            ]
          },
          "metadata": {},
          "execution_count": 7
        }
      ]
    },
    {
      "cell_type": "code",
      "source": [
        "table1 = ratings.groupBy('user_id').agg((f.count('rating')>=300).alias('count')).filter(f.col('count')==True)\n",
        "print(table1.count())\n",
        "table2 = ratings.groupBy('item_id').agg((f.count('rating')>=10).alias('count')).filter(f.col('count')==True)\n",
        "print(table2.count())\n",
        "table3 = ratings.join(table1,on='user_id',how='inner').drop('count')\n",
        "table3 = table3.join(table2, on ='item_id',how='inner').drop('count')\n",
        "print(table3.count())"
      ],
      "metadata": {
        "colab": {
          "base_uri": "https://localhost:8080/"
        },
        "id": "SsXODJ-kZUkG",
        "outputId": "cedd3c78-f67f-4faf-ffce-de0b4557738a"
      },
      "execution_count": null,
      "outputs": [
        {
          "output_type": "stream",
          "name": "stdout",
          "text": [
            "790\n",
            "9374\n",
            "323693\n"
          ]
        }
      ]
    },
    {
      "cell_type": "code",
      "source": [
        "#train, test = table3.randomSplit([.8, .2])\n"
      ],
      "metadata": {
        "id": "oPXMQf52mT3l"
      },
      "execution_count": null,
      "outputs": []
    },
    {
      "cell_type": "code",
      "source": [
        "als = ALS(userCol='user_id',\n",
        "          ratingCol='rating',\n",
        "          itemCol='item_id')\n",
        "model = als.fit(table3)\n",
        "prediction = model.transform(table3)\n",
        "prediction = prediction.where(f.col('prediction')!=np.nan).na.drop()\n",
        "evaluator = RegressionEvaluator(metricName='rmse',\n",
        "                                labelCol='rating',\n",
        "                                predictionCol='prediction')\n",
        "rmse = evaluator.evaluate(prediction)\n",
        "model.write().overwrite().save(\"/content/drive/MyDrive/Colab Notebooks/models/\")"
      ],
      "metadata": {
        "id": "02Bzxh8RmaGD"
      },
      "execution_count": null,
      "outputs": []
    },
    {
      "cell_type": "code",
      "source": [
        "prediction.show()"
      ],
      "metadata": {
        "id": "__enDsXDmcd1",
        "colab": {
          "base_uri": "https://localhost:8080/"
        },
        "outputId": "10cf0161-72a7-4a67-efc1-025740cae2db"
      },
      "execution_count": null,
      "outputs": [
        {
          "output_type": "stream",
          "name": "stdout",
          "text": [
            "+--------+-------+------+----------+\n",
            "| item_id|user_id|rating|prediction|\n",
            "+--------+-------+------+----------+\n",
            "| 3194786|     22|     1|  2.430135|\n",
            "|16682039|     22|     4| 3.6748598|\n",
            "|19187812|     22|     5|   3.88239|\n",
            "|42367516|     28|     2|  2.068932|\n",
            "|10829530|     28|     2|  2.641614|\n",
            "|12020129|     28|     4| 3.6035326|\n",
            "|21500681|     28|     5| 3.8813524|\n",
            "|21500681|    105|     5| 3.8199077|\n",
            "| 2252213|    105|     4| 3.7389169|\n",
            "|12020129|    105|     3| 3.8260727|\n",
            "| 2207382|    228|     2|  3.286349|\n",
            "| 3194786|    228|     3|  3.179707|\n",
            "|13855759|    228|     1| 1.7955253|\n",
            "|11552215|    228|     5| 3.7338142|\n",
            "|12020129|    228|     3| 3.4531016|\n",
            "|18221243|    228|     5| 4.0264697|\n",
            "| 2501542|    262|     3| 3.0638652|\n",
            "| 5727588|    262|     4| 3.7233224|\n",
            "|21500681|    384|     4| 3.7120361|\n",
            "|19187812|    413|     5| 3.4847322|\n",
            "+--------+-------+------+----------+\n",
            "only showing top 20 rows\n",
            "\n"
          ]
        }
      ]
    },
    {
      "cell_type": "code",
      "source": [
        "print(rmse)"
      ],
      "metadata": {
        "colab": {
          "base_uri": "https://localhost:8080/"
        },
        "id": "nhRz_0K1iOFO",
        "outputId": "fcdb7b37-ab1a-4a7b-af23-343458d964c0"
      },
      "execution_count": null,
      "outputs": [
        {
          "output_type": "stream",
          "name": "stdout",
          "text": [
            "0.7098375815492473\n"
          ]
        }
      ]
    },
    {
      "cell_type": "code",
      "source": [
        "prediction.coalesce(1).write.csv(\"/content/drive/MyDrive/Colab Notebooks/prediction\", mode=\"overwrite\")\n",
        "prediction.repartition(1).write.csv(\"/content/drive/MyDrive/Colab Notebooks/prediction\", mode=\"overwrite\")"
      ],
      "metadata": {
        "id": "QaO5Hd13O4Nn"
      },
      "execution_count": null,
      "outputs": []
    },
    {
      "cell_type": "code",
      "source": [
        "df = prediction.toPandas()"
      ],
      "metadata": {
        "id": "e0sd0BhUYFFk"
      },
      "execution_count": null,
      "outputs": []
    },
    {
      "cell_type": "code",
      "source": [
        "model.recommendForAllUsers(10).show(truncate=False)"
      ],
      "metadata": {
        "colab": {
          "base_uri": "https://localhost:8080/"
        },
        "id": "WAzL_SBbYPa0",
        "outputId": "cf63aecf-e457-48f0-aa87-d95f4879e5aa"
      },
      "execution_count": null,
      "outputs": [
        {
          "output_type": "stream",
          "name": "stdout",
          "text": [
            "+-------+---------------------------------------------------------------------------------------------------------------------------------------------------------------------------------------------------------------------------+\n",
            "|user_id|recommendations                                                                                                                                                                                                            |\n",
            "+-------+---------------------------------------------------------------------------------------------------------------------------------------------------------------------------------------------------------------------------+\n",
            "|22     |[{6801520, 4.826396}, {42805837, 4.748226}, {463790, 4.746833}, {47250749, 4.7230854}, {6440505, 4.706369}, {6571827, 4.692729}, {884960, 4.66082}, {10953171, 4.6403823}, {1840987, 4.605967}, {1791604, 4.5881906}]      |\n",
            "|28     |[{227267, 5.0126987}, {955081, 4.9439554}, {2444552, 4.9301267}, {142449, 4.9167185}, {41129225, 4.8910813}, {878114, 4.884676}, {6801520, 4.8756437}, {2139868, 4.8435936}, {69191, 4.8371406}, {13341052, 4.8031106}]    |\n",
            "|69     |[{26493723, 4.8965564}, {1840987, 4.82585}, {20393152, 4.5905414}, {6801520, 4.521577}, {23907081, 4.4997015}, {7732, 4.4853644}, {598481, 4.459626}, {6591373, 4.451723}, {52588116, 4.4507084}, {40295140, 4.44417}]     |\n",
            "|78     |[{1105809, 5.341925}, {43268, 5.1813602}, {20434573, 5.0542326}, {5431515, 5.020494}, {7732, 5.019755}, {3152550, 4.996609}, {840520, 4.894929}, {17243368, 4.8198876}, {270045, 4.7832704}, {2962492, 4.733952}]          |\n",
            "|92     |[{819610, 5.6561527}, {43516764, 5.604993}, {59082, 5.5977726}, {6801520, 5.595945}, {2406151, 5.569076}, {3044365, 5.5661144}, {1602074, 5.415751}, {45894132, 5.38198}, {11045, 5.3474736}, {1792180, 5.334063}]         |\n",
            "|105    |[{1247570, 5.2062125}, {28027377, 5.047163}, {50513878, 5.0392838}, {7492217, 4.9995823}, {12502983, 4.971511}, {19041763, 4.890832}, {1920889, 4.8849874}, {16202400, 4.87846}, {29303, 4.858999}, {16209069, 4.842946}]  |\n",
            "|151    |[{1840987, 5.5654035}, {6801520, 5.303422}, {11349083, 5.2621603}, {40295140, 5.130038}, {2139868, 5.126507}, {51766600, 5.1130323}, {26493723, 5.10803}, {840520, 5.073558}, {1045364, 5.0690227}, {69191, 5.048813}]     |\n",
            "|169    |[{6801520, 5.2708645}, {1840987, 5.2143908}, {840520, 5.1388683}, {16209069, 5.0778875}, {2501194, 5.040514}, {47250749, 5.0305204}, {7492217, 5.008971}, {2960725, 4.9578395}, {6571827, 4.938075}, {40295140, 4.9343677}]|\n",
            "|192    |[{1840987, 5.3639274}, {6801520, 5.1214137}, {7732, 5.088269}, {840520, 5.0590615}, {54361391, 4.970935}, {47264110, 4.950244}, {20434573, 4.92807}, {54171514, 4.907578}, {2402163, 4.903506}, {2962492, 4.895696}]       |\n",
            "|214    |[{1755568, 5.249412}, {2931549, 5.240129}, {2826418, 5.208565}, {2888469, 5.1755}, {25095506, 5.1336575}, {900927, 5.1201215}, {88082, 5.0996757}, {1103107, 5.0669484}, {955081, 5.058898}, {7732, 5.0251923}]            |\n",
            "|228    |[{801500, 5.0488224}, {2441994, 5.042342}, {41129225, 4.932577}, {2529422, 4.8907423}, {1128271, 4.841779}, {26493723, 4.8401046}, {22599, 4.821145}, {4570662, 4.7968473}, {1840987, 4.7883263}, {6801520, 4.7772837}]    |\n",
            "|245    |[{6801520, 4.579694}, {1791604, 4.529549}, {1840987, 4.485409}, {2139868, 4.477469}, {49704739, 4.3362017}, {1602074, 4.3314037}, {23907081, 4.3291917}, {23594240, 4.328496}, {16997854, 4.326409}, {598481, 4.326139}]   |\n",
            "|262    |[{26493723, 4.730737}, {1840987, 4.680217}, {6591373, 4.603961}, {6801520, 4.5300927}, {598481, 4.4679494}, {2139868, 4.4336033}, {40295140, 4.4318204}, {2960725, 4.414019}, {2501194, 4.4115934}, {25369241, 4.374335}]  |\n",
            "|280    |[{1222661, 4.8861947}, {801500, 4.8660913}, {4536957, 4.769916}, {6801520, 4.7517343}, {45519636, 4.647448}, {13465100, 4.570468}, {17243368, 4.55161}, {24081161, 4.5178905}, {6571827, 4.506853}, {17152038, 4.4802938}] |\n",
            "|355    |[{1840987, 5.4145193}, {7732, 5.293421}, {54361391, 5.1461544}, {955081, 5.129847}, {6801520, 5.1162024}, {6591373, 5.0671697}, {13341052, 5.0609617}, {1253009, 5.041306}, {19112644, 5.009064}, {28323940, 4.9812064}]   |\n",
            "|384    |[{955081, 4.6146226}, {3281465, 4.517629}, {900927, 4.415911}, {1755568, 4.4028544}, {13341052, 4.371876}, {54361391, 4.3498163}, {1840987, 4.3257117}, {788122, 4.3079195}, {1658562, 4.3073277}, {1103107, 4.2772527}]   |\n",
            "|394    |[{1840987, 5.8425183}, {7732, 5.768376}, {26493723, 5.723503}, {6801520, 5.4762383}, {10953171, 5.465332}, {840520, 5.4575877}, {54361391, 5.402857}, {2926133, 5.4018807}, {47264110, 5.345857}, {40295140, 5.341164}]    |\n",
            "|413    |[{1105831, 4.652721}, {2046265, 4.631171}, {23907081, 4.4720035}, {1791604, 4.4549046}, {39860214, 4.4228225}, {1840987, 4.416366}, {7216551, 4.4044685}, {196179, 4.4039845}, {981140, 4.374735}, {1258333, 4.3408837}]   |\n",
            "|426    |[{2046265, 4.5152392}, {1222661, 4.45421}, {6801520, 4.4511294}, {1840987, 4.440892}, {1791604, 4.4321284}, {59137, 4.413878}, {54361391, 4.4111457}, {788122, 4.3518324}, {2402163, 4.290904}, {13341052, 4.2667465}]     |\n",
            "|460    |[{19041763, 5.846766}, {2139868, 5.5804067}, {6801520, 5.565691}, {903474, 5.5373826}, {1791604, 5.524652}, {1247570, 5.4872875}, {2444552, 5.3985167}, {2046265, 5.3849416}, {2962492, 5.349137}, {8134945, 5.3482614}]   |\n",
            "+-------+---------------------------------------------------------------------------------------------------------------------------------------------------------------------------------------------------------------------------+\n",
            "only showing top 20 rows\n",
            "\n"
          ]
        }
      ]
    },
    {
      "cell_type": "code",
      "source": [
        "model.recommendForUserSubset(spark.createDataFrame([{\"user_id\":22}]),10).show(truncate=False)"
      ],
      "metadata": {
        "colab": {
          "base_uri": "https://localhost:8080/"
        },
        "id": "jypEdeInZUGd",
        "outputId": "06c1baa8-1da4-48f1-f53c-835223181ac6"
      },
      "execution_count": null,
      "outputs": [
        {
          "output_type": "stream",
          "name": "stdout",
          "text": [
            "+-------+---------------------------------------------------------------------------------------------------------------------------------------------------------------------------------------------------------------------+\n",
            "|user_id|recommendations                                                                                                                                                                                                      |\n",
            "+-------+---------------------------------------------------------------------------------------------------------------------------------------------------------------------------------------------------------------------+\n",
            "|22     |[{6801520, 4.826396}, {42805837, 4.748226}, {463790, 4.746833}, {47250749, 4.7230854}, {6440505, 4.706369}, {6571827, 4.692729}, {884960, 4.66082}, {10953171, 4.6403823}, {1840987, 4.605967}, {1791604, 4.5881906}]|\n",
            "+-------+---------------------------------------------------------------------------------------------------------------------------------------------------------------------------------------------------------------------+\n",
            "\n"
          ]
        }
      ]
    },
    {
      "cell_type": "code",
      "source": [
        "new_test = test.select([\"item_id\",\"user_id\"]).where(f.col(\"user_id\")==1055).limit(10)\n",
        "new_test.show()"
      ],
      "metadata": {
        "colab": {
          "base_uri": "https://localhost:8080/"
        },
        "id": "odSbBqEaA4w8",
        "outputId": "033a9cac-4bbc-4dfe-de09-f456baf5ca32"
      },
      "execution_count": null,
      "outputs": [
        {
          "output_type": "stream",
          "name": "stdout",
          "text": [
            "+-------+-------+\n",
            "|item_id|user_id|\n",
            "+-------+-------+\n",
            "|    115|   1055|\n",
            "|   3801|   1055|\n",
            "|  43554|   1055|\n",
            "|  63845|   1055|\n",
            "| 810663|   1055|\n",
            "| 943470|   1055|\n",
            "|1049657|   1055|\n",
            "|1095121|   1055|\n",
            "|1142385|   1055|\n",
            "|1180927|   1055|\n",
            "+-------+-------+\n",
            "\n"
          ]
        }
      ]
    },
    {
      "cell_type": "code",
      "source": [
        "new_prediction = model.transform(new_test)\n",
        "new_prediction.show()"
      ],
      "metadata": {
        "colab": {
          "base_uri": "https://localhost:8080/"
        },
        "id": "wjDjApKmA5yP",
        "outputId": "5202dbab-8490-4657-a497-8754d5600595"
      },
      "execution_count": null,
      "outputs": [
        {
          "output_type": "stream",
          "name": "stdout",
          "text": [
            "+-------+-------+----------+\n",
            "|item_id|user_id|prediction|\n",
            "+-------+-------+----------+\n",
            "|    115|   1055| 3.8159878|\n",
            "|   3801|   1055| 3.3042886|\n",
            "|  43554|   1055| 3.8256767|\n",
            "|  63845|   1055|  3.482943|\n",
            "| 810663|   1055| 3.5902839|\n",
            "| 943470|   1055|  3.191405|\n",
            "|1049657|   1055| 3.7092094|\n",
            "|1095121|   1055| 3.3182786|\n",
            "|1142385|   1055| 3.4836848|\n",
            "|1180927|   1055| 3.3607078|\n",
            "+-------+-------+----------+\n",
            "\n"
          ]
        }
      ]
    },
    {
      "cell_type": "code",
      "source": [
        "ratings.select(f.max(f.col(\"user_id\"))).show()"
      ],
      "metadata": {
        "colab": {
          "base_uri": "https://localhost:8080/"
        },
        "id": "jVbeFb6MFpN7",
        "outputId": "978acd83-7ba9-437d-fdd2-115e15909973"
      },
      "execution_count": null,
      "outputs": [
        {
          "output_type": "stream",
          "name": "stdout",
          "text": [
            "+------------+\n",
            "|max(user_id)|\n",
            "+------------+\n",
            "|      356969|\n",
            "+------------+\n",
            "\n"
          ]
        }
      ]
    },
    {
      "cell_type": "code",
      "source": [
        "df_train = spark.createDataFrame([(115,356970,3),(43554,356970,4),(423,356970,2)],\"item_id: int, user_id: int, rating: int\")"
      ],
      "metadata": {
        "id": "a9SKISWQDi6K"
      },
      "execution_count": null,
      "outputs": []
    },
    {
      "cell_type": "code",
      "source": [
        "df_train.show()"
      ],
      "metadata": {
        "colab": {
          "base_uri": "https://localhost:8080/"
        },
        "id": "kG14Hy2bHany",
        "outputId": "90a42eff-c268-494d-e44e-455c3c624668"
      },
      "execution_count": null,
      "outputs": [
        {
          "output_type": "stream",
          "name": "stdout",
          "text": [
            "+-------+-------+------+\n",
            "|item_id|user_id|rating|\n",
            "+-------+-------+------+\n",
            "|    115| 356970|     3|\n",
            "|  43554| 356970|     4|\n",
            "|    423| 356970|     2|\n",
            "+-------+-------+------+\n",
            "\n"
          ]
        }
      ]
    },
    {
      "cell_type": "code",
      "source": [
        "df_test = spark.createDataFrame([(63845,356970),(1142385,356970),(505,356970)],\"item_id: int, user_id: int \")\n",
        "df_test.show()"
      ],
      "metadata": {
        "colab": {
          "base_uri": "https://localhost:8080/"
        },
        "id": "Q_HEyuhoHccZ",
        "outputId": "c359b999-9805-46c6-e0b5-acd38ba8d768"
      },
      "execution_count": null,
      "outputs": [
        {
          "output_type": "stream",
          "name": "stdout",
          "text": [
            "+-------+-------+\n",
            "|item_id|user_id|\n",
            "+-------+-------+\n",
            "|  63845| 356970|\n",
            "|1142385| 356970|\n",
            "|    505| 356970|\n",
            "+-------+-------+\n",
            "\n"
          ]
        }
      ]
    },
    {
      "cell_type": "code",
      "source": [
        "from pyspark.ml.recommendation import ALSModel\n",
        "new_model = ALSModel.load(path = \"/content/drive/MyDrive/Colab Notebooks/models/\")"
      ],
      "metadata": {
        "id": "-23iISxgHvd2"
      },
      "execution_count": null,
      "outputs": []
    },
    {
      "cell_type": "code",
      "source": [
        "new_prediction = new_model.transform(df_train)\n",
        "new_prediction.show()"
      ],
      "metadata": {
        "colab": {
          "base_uri": "https://localhost:8080/"
        },
        "id": "mNQJL2_LK16X",
        "outputId": "9038c2bb-ce7a-41a5-e66c-e22051af5767"
      },
      "execution_count": null,
      "outputs": [
        {
          "output_type": "stream",
          "name": "stdout",
          "text": [
            "+-------+-------+------+----------+\n",
            "|item_id|user_id|rating|prediction|\n",
            "+-------+-------+------+----------+\n",
            "|    115| 356970|     3|       NaN|\n",
            "|  43554| 356970|     4|       NaN|\n",
            "|    423| 356970|     2|       NaN|\n",
            "+-------+-------+------+----------+\n",
            "\n"
          ]
        }
      ]
    },
    {
      "cell_type": "code",
      "source": [],
      "metadata": {
        "id": "iI8c-oQFLb2T"
      },
      "execution_count": null,
      "outputs": []
    }
  ]
}